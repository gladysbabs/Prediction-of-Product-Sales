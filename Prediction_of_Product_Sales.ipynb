{
  "nbformat": 4,
  "nbformat_minor": 0,
  "metadata": {
    "colab": {
      "provenance": [],
      "authorship_tag": "ABX9TyOOoLZujwKXbQf0qQFV3kkI",
      "include_colab_link": true
    },
    "kernelspec": {
      "name": "python3",
      "display_name": "Python 3"
    },
    "language_info": {
      "name": "python"
    }
  },
  "cells": [
    {
      "cell_type": "markdown",
      "metadata": {
        "id": "view-in-github",
        "colab_type": "text"
      },
      "source": [
        "<a href=\"https://colab.research.google.com/github/gladysbabs/Prediction-of-Product-Sales/blob/main/Prediction_of_Product_Sales.ipynb\" target=\"_parent\"><img src=\"https://colab.research.google.com/assets/colab-badge.svg\" alt=\"Open In Colab\"/></a>"
      ]
    },
    {
      "cell_type": "markdown",
      "source": [
        "# Project Title: (Prediction of Product Sales).\n",
        " - Author: Gladys Nacuka Babirye Bagandanswa\n"
      ],
      "metadata": {
        "id": "0O7Cky89EFOa"
      }
    },
    {
      "cell_type": "markdown",
      "source": [
        " ## Project Overview"
      ],
      "metadata": {
        "id": "2bcfOEj-Ez3M"
      }
    },
    {
      "cell_type": "markdown",
      "source": [
        "## Load and Inspect Data"
      ],
      "metadata": {
        "id": "yOciqTBlE4xg"
      }
    },
    {
      "cell_type": "code",
      "source": [],
      "metadata": {
        "id": "jOKOUD47E9Pw"
      },
      "execution_count": null,
      "outputs": []
    },
    {
      "cell_type": "markdown",
      "source": [
        "## Clean Data"
      ],
      "metadata": {
        "id": "WyfZHhlwE94V"
      }
    },
    {
      "cell_type": "code",
      "source": [],
      "metadata": {
        "id": "NewvFFJRFApz"
      },
      "execution_count": null,
      "outputs": []
    },
    {
      "cell_type": "markdown",
      "source": [
        "## Exploratory Data Analysis"
      ],
      "metadata": {
        "id": "obSdZhLLFBOb"
      }
    },
    {
      "cell_type": "code",
      "source": [],
      "metadata": {
        "id": "NfIRFqEnFESH"
      },
      "execution_count": null,
      "outputs": []
    },
    {
      "cell_type": "markdown",
      "source": [
        "## Feature Inspection"
      ],
      "metadata": {
        "id": "uVPGz7ehFFGF"
      }
    },
    {
      "cell_type": "code",
      "source": [],
      "metadata": {
        "id": "LKZO5TYhFHuX"
      },
      "execution_count": null,
      "outputs": []
    }
  ]
}